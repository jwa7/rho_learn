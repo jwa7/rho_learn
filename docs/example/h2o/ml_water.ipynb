{
 "cells": [
  {
   "attachments": {},
   "cell_type": "markdown",
   "metadata": {
    "tags": []
   },
   "source": [
    "# Learning the electron density of water"
   ]
  },
  {
   "cell_type": "markdown",
   "metadata": {},
   "source": [
    "### Install the relevant packages\n",
    "\n",
    "1. `pip install metatensor`\n",
    "1. `pip install chemiscope`\n",
    "1. `pip install git+https://github.com/luthaf/rascaline.git@b2cedfe870541e6d037357db58de1901eb116c41`"
   ]
  },
  {
   "cell_type": "code",
   "execution_count": null,
   "metadata": {},
   "outputs": [],
   "source": [
    "# TODO:\n",
    "# - better model saving\n",
    "# - initialize model with rascaline hypers"
   ]
  },
  {
   "cell_type": "code",
   "execution_count": 1,
   "metadata": {
    "tags": []
   },
   "outputs": [],
   "source": [
    "%load_ext autoreload\n",
    "%autoreload 2\n",
    "\n",
    "# Useful standard and scientific ML libraries\n",
    "import os\n",
    "import time\n",
    "import ase.io\n",
    "import matplotlib.pyplot as plt\n",
    "import numpy as np\n",
    "import py3Dmol\n",
    "import torch\n",
    "\n",
    "# M-Stack packages\n",
    "\n",
    "import metatensor   # storage format for atomistic ML\n",
    "import chemiscope  # interactive molecular visualization\n",
    "import rascaline   # generating structural representations\n",
    "\n",
    "from metatensor import Labels, TensorBlock, TensorMap\n",
    "from rascaline.utils import clebsch_gordan\n",
    "\n",
    "# Torch-based density leaning\n",
    "from rholearn import io, data, descriptor, loss, models\n",
    "\n",
    "top_dir = \"/Users/joe.abbott/Documents/phd/code/rho/rho_learn/docs/example/h2o\"\n",
    "data_dir = os.path.join(top_dir, \"data\")"
   ]
  },
  {
   "attachments": {},
   "cell_type": "markdown",
   "metadata": {
    "tags": []
   },
   "source": [
    "## Visualize and explore dataset: `chemiscope`"
   ]
  },
  {
   "cell_type": "code",
   "execution_count": 2,
   "metadata": {},
   "outputs": [
    {
     "data": {
      "application/vnd.jupyter.widget-view+json": {
       "model_id": "09b937afa6d8415181039f159826d0cf",
       "version_major": 2,
       "version_minor": 0
      },
      "text/plain": [
       "ChemiscopeWidget(value='{\"meta\": {\"name\": \" \"}, \"structures\": [{\"size\": 3, \"names\": [\"O\", \"H\", \"H\"], \"x\": [0.0…"
      ]
     },
     "execution_count": 2,
     "metadata": {},
     "output_type": "execute_result"
    }
   ],
   "source": [
    "# Load all the frames in the dataset - 1000 water monomers in the gas phase\n",
    "frames = ase.io.read(os.path.join(data_dir, \"water_monomers_1k.xyz\"), \":\")\n",
    "\n",
    "# DFT data is only computed for some of the frames - only hold onto these\n",
    "all_idxs = np.arange(100)\n",
    "frames = [frames[i] for i in all_idxs]\n",
    "chemiscope.show(\n",
    "    frames,\n",
    "    properties={\n",
    "        \"Mean O-H bond length, Angstrom\": [np.mean([f.get_distance(0, 1), f.get_distance(0, 2)]) for f in frames],\n",
    "        \"H-O-H angle, degrees\": [f.get_angle(1, 0, 2) for f in frames],\n",
    "    },\n",
    ")"
   ]
  },
  {
   "cell_type": "markdown",
   "metadata": {},
   "source": [
    "## Descriptor: $\\lambda$-SOAP equivariant"
   ]
  },
  {
   "cell_type": "code",
   "execution_count": 3,
   "metadata": {},
   "outputs": [],
   "source": [
    "rascal_settings =  {\n",
    "    \"hypers\": {\n",
    "        \"cutoff\": 3.0,  # Angstrom\n",
    "        \"max_radial\": 6,  # Exclusive\n",
    "        \"max_angular\": 5,  # Inclusive\n",
    "        \"atomic_gaussian_width\": 0.3,\n",
    "        \"radial_basis\": {\"Gto\": {}},\n",
    "        \"cutoff_function\": {\"ShiftedCosine\": {\"width\": 0.5}},\n",
    "        \"center_atom_weight\": 1.0,\n",
    "    },\n",
    "    \"compute\": {},\n",
    "}\n",
    "\n",
    "cg_settings =  {\n",
    "    \"angular_cutoff\": None,\n",
    "    \"angular_selection\": [0, 1, 2, 3, 4, 5],\n",
    "    \"parity_selection\": [+1],\n",
    "}\n",
    "calculator = rascaline.SphericalExpansion(**rascal_settings[\"hypers\"])\n",
    "nu_1_tensor = calculator.compute(frames, **rascal_settings[\"compute\"])\n",
    "nu_1_tensor = nu_1_tensor.keys_to_properties(\"species_neighbor\")\n",
    "lsoap = clebsch_gordan.lambda_soap_vector(nu_1_tensor, **cg_settings)\n",
    "\n",
    "# Make a dir for the lambda-SOAP descriptors\n",
    "if not os.path.exists(os.path.join(data_dir, \"lsoap\")):\n",
    "    os.mkdir(os.path.join(data_dir, \"lsoap\"))\n",
    "\n",
    "# Split into per-structure TensorMaps and save into separate directories.\n",
    "# This is useful for batched training.\n",
    "for A in all_idxs:\n",
    "    if not os.path.exists(os.path.join(data_dir, f\"lsoap/{A}\")):\n",
    "        os.mkdir(os.path.join(data_dir, f\"lsoap/{A}\"))\n",
    "    lsoap_A = metatensor.slice(\n",
    "        lsoap,\n",
    "        \"samples\",\n",
    "        labels=Labels(names=\"structure\", values=np.array([A]).reshape(-1, 1)),\n",
    "    )\n",
    "    metatensor.save(os.path.join(data_dir, f\"lsoap/{A}/lsoap.npz\"), lsoap_A)"
   ]
  },
  {
   "cell_type": "code",
   "execution_count": 4,
   "metadata": {},
   "outputs": [],
   "source": [
    "# Store the settings needed to build the descriptor. In module predictor.py,\n",
    "# the function `build_descriptor` is used by the model, along with the\n",
    "# `descriptor_kwargs` passed upon initialization, to generate a descriptor as\n",
    "# part of the prediction pipeline. As the descriptor needs to be generated with\n",
    "# the same settings as the training data, we store these settings in the model.\n",
    "descriptor_kwargs = {\n",
    "    \"rascal_settings\": rascal_settings,\n",
    "    \"cg_settings\": cg_settings,\n",
    "}"
   ]
  },
  {
   "cell_type": "markdown",
   "metadata": {},
   "source": [
    "## Target: RI coefficients"
   ]
  },
  {
   "cell_type": "code",
   "execution_count": 5,
   "metadata": {},
   "outputs": [],
   "source": [
    "# Load the basis set definition from the first DFT calculation\n",
    "A = all_idxs[0]\n",
    "calc_info = io.unpickle_dict(os.path.join(data_dir, f\"dft/{A}/calc_info.pickle\"))\n",
    "basis_set = {\"lmax\": calc_info[\"lmax\"], \"nmax\": calc_info[\"nmax\"]}\n",
    "\n",
    "# Check consistent basis set definition for all calculations\n",
    "for idxs in all_idxs[1:]:\n",
    "    # Load the info parsed from the AIMS calculation\n",
    "    calc_info_tmp = io.unpickle_dict(os.path.join(data_dir, f\"dft/{A}/calc_info.pickle\"))\n",
    "    # Check lmax\n",
    "    for sym, val in calc_info_tmp[\"lmax\"].items():\n",
    "        assert basis_set[\"lmax\"][sym] == val\n",
    "    # Check nmax\n",
    "    for (sym, l), val in calc_info_tmp[\"nmax\"].items():\n",
    "        assert basis_set[\"nmax\"][(sym, l)] == val\n",
    "\n",
    "# Define the settings need to ransform the raw prediction of the ML model \n",
    "target_kwargs = {\n",
    "    \"basis_set\": basis_set,\n",
    "}"
   ]
  },
  {
   "cell_type": "markdown",
   "metadata": {},
   "source": [
    "## Create `dataset` and `dataloader`"
   ]
  },
  {
   "cell_type": "code",
   "execution_count": 6,
   "metadata": {},
   "outputs": [],
   "source": [
    "train_idxs, test_idxs, val_idxs = data.group_idxs(\n",
    "    all_idxs=all_idxs,\n",
    "    n_groups=3,\n",
    "    group_sizes=[50, 30, 20],\n",
    "    shuffle=True,\n",
    "    seed=10,\n",
    ")"
   ]
  },
  {
   "cell_type": "code",
   "execution_count": 7,
   "metadata": {},
   "outputs": [],
   "source": [
    "# Define some torch settings\n",
    "torch_settings = {\n",
    "    \"dtype\": torch.float64,\n",
    "    \"requires_grad\": True,\n",
    "    \"device\": torch.device(type=\"cpu\"),\n",
    "}\n",
    "\n",
    "# Build the torch dataset\n",
    "rho_data = data.RhoData(\n",
    "    all_idxs=np.concatenate([train_idxs, test_idxs, val_idxs]),\n",
    "    train_idxs=train_idxs,\n",
    "    input_dir=os.path.join(data_dir, \"lsoap\"),\n",
    "    output_dir=os.path.join(data_dir, \"dft\"),\n",
    "    overlap_dir=os.path.join(data_dir, \"dft\"),\n",
    "    keep_in_mem=True,\n",
    "    # calc_out_train_inv_means=True,\n",
    "    # calc_out_train_std_dev=True,\n",
    "    filenames=[\"lsoap\", \"ri_coeffs\", \"ri_ovlp\"],\n",
    "    **torch_settings,\n",
    ")"
   ]
  },
  {
   "cell_type": "code",
   "execution_count": 18,
   "metadata": {},
   "outputs": [],
   "source": [
    "# Initialize model\n",
    "model = models.RhoModel(\n",
    "    model_type=\"linear\",\n",
    "    input=rho_data[0][1],\n",
    "    output=rho_data[0][2],\n",
    "    bias_invariants=True,\n",
    "    # hidden_layer_widths=[8, 8],\n",
    "    # activation_fn=torch.nn.Tanh(),\n",
    "    descriptor_kwargs=descriptor_kwargs,\n",
    "    target_kwargs=target_kwargs,\n",
    "    **torch_settings\n",
    ")"
   ]
  },
  {
   "cell_type": "markdown",
   "metadata": {},
   "source": [
    "## Check the equivariance condition"
   ]
  },
  {
   "cell_type": "markdown",
   "metadata": {},
   "source": [
    "### a) $\\lambda$-SOAP descriptor"
   ]
  },
  {
   "cell_type": "code",
   "execution_count": 9,
   "metadata": {},
   "outputs": [
    {
     "name": "stdout",
     "output_type": "stream",
     "text": [
      "Random rotation angles (rad): [0.08559972 0.11542214 3.30799449]\n",
      "O(3) EQUIVARIANT!\n"
     ]
    }
   ],
   "source": [
    "# Check equivariance of lambda-SOAP descriptor\n",
    "\n",
    "# Generate Wigner-D matrices, initialized with random angles\n",
    "wig = clebsch_gordan.WignerDReal(lmax=rascal_settings[\"hypers\"][\"max_angular\"])\n",
    "print(\"Random rotation angles (rad):\", wig.angles)\n",
    "\n",
    "# Apply an O(3) transformation to each frame \n",
    "frames_o3 = [clebsch_gordan.transform_frame_o3(frame, wig.angles) for frame in frames]\n",
    "assert not np.allclose(frames[0].positions, frames_o3[0].positions)\n",
    "\n",
    "# Generate lambda-SOAP for the transformed frames\n",
    "lsoap_o3 = descriptor.descriptor_builder(frames_o3, **descriptor_kwargs)\n",
    "\n",
    "# Apply the O(3) transformation to the TensorMap\n",
    "lsoap_transformed = wig.transform_tensormap_o3(lsoap)\n",
    "\n",
    "# Check for equivariance!\n",
    "assert metatensor.equal_metadata(lsoap_transformed, lsoap_o3)\n",
    "assert metatensor.allclose(lsoap_transformed, lsoap_o3)\n",
    "print(\"O(3) EQUIVARIANT!\")"
   ]
  },
  {
   "cell_type": "markdown",
   "metadata": {},
   "source": [
    "### b) torch model (untrained)"
   ]
  },
  {
   "cell_type": "code",
   "execution_count": 10,
   "metadata": {},
   "outputs": [
    {
     "name": "stdout",
     "output_type": "stream",
     "text": [
      "O(3) EQUIVARIANT!\n"
     ]
    },
    {
     "name": "stderr",
     "output_type": "stream",
     "text": [
      "/opt/miniforge3/envs/rho/lib/python3.10/site-packages/rholearn/models.py:292: UserWarning: one or more of input blocks at keys [LabelsEntry(spherical_harmonics_l=5, species_center=1)] is not  part of the keys of the model. The returned prediction will not contain this block.\n",
      "  warnings.warn(\n"
     ]
    }
   ],
   "source": [
    "# Make a prediction on both the original and O3-transformed lambda-SOAP\n",
    "# descriptors\n",
    "with torch.no_grad():\n",
    "    pred = model(metatensor.to(lsoap, \"torch\", **torch_settings))\n",
    "    pred_o3 = model(metatensor.to(lsoap_o3, \"torch\", **torch_settings))\n",
    "\n",
    "# Transform the prediction made on the original (untransfored) lambda-SOAP\n",
    "pred_transformed = wig.transform_tensormap_o3(pred)\n",
    "\n",
    "# Check for equivariance!\n",
    "assert metatensor.equal_metadata(pred_transformed, pred_o3)\n",
    "assert metatensor.allclose(pred_transformed, pred_o3)\n",
    "print(\"O(3) EQUIVARIANT!\")"
   ]
  },
  {
   "cell_type": "markdown",
   "metadata": {},
   "source": [
    "## Model training"
   ]
  },
  {
   "cell_type": "code",
   "execution_count": 11,
   "metadata": {},
   "outputs": [],
   "source": [
    "# Construct dataloaders for training and testing\n",
    "batch_size = 5\n",
    "train_loader = data.RhoLoader(\n",
    "    rho_data,\n",
    "    idxs=train_idxs,\n",
    "    get_overlaps=True,\n",
    "    batch_size=batch_size,\n",
    ")\n",
    "test_loader = data.RhoLoader(\n",
    "    rho_data,\n",
    "    idxs=test_idxs,\n",
    "    get_overlaps=True,\n",
    "    batch_size=batch_size,\n",
    ")\n",
    "\n",
    "# Initialize optimizer and loss function\n",
    "optimizer = torch.optim.Adam(model.parameters(), lr=0.01)\n",
    "loss_fn = loss.L2Loss()"
   ]
  },
  {
   "cell_type": "code",
   "execution_count": 14,
   "metadata": {},
   "outputs": [
    {
     "name": "stdout",
     "output_type": "stream",
     "text": [
      "Epoch 0 | Train loss: 21.300751532114614 | Test loss: 6.634450527046826\n",
      "Epoch 1 | Train loss: 8.445384938387058 | Test loss: 2.484842689901609\n",
      "Epoch 2 | Train loss: 3.0833488032978122 | Test loss: 1.2215482885903528\n",
      "Epoch 3 | Train loss: 1.2315910336555458 | Test loss: 0.6732664011176005\n",
      "Epoch 4 | Train loss: 0.701236442565251 | Test loss: 0.5017009563441024\n"
     ]
    }
   ],
   "source": [
    "n_epochs = 5\n",
    "\n",
    "# Start training loop\n",
    "losses = {\"train\": [], \"test\": []}\n",
    "for epoch in range(n_epochs):\n",
    "    # Switch off metadata checking after the first epoch\n",
    "    check_args = True if epoch == 0 else False\n",
    "\n",
    "    # Iterate over train batches\n",
    "    train_loss_epoch = 0\n",
    "    for train_batch in train_loader:\n",
    "        # Reset gradients\n",
    "        optimizer.zero_grad()\n",
    "\n",
    "        # Unpack train batch, respectively: structure idxs, lsoap, RI coeffs, RI\n",
    "        # overlap matrices\n",
    "        idxs_train, in_train, out_train, aux_train = train_batch\n",
    "\n",
    "        # Make a prediction\n",
    "        out_train_pred = model(in_train, check_args=check_args)\n",
    "\n",
    "        # Evaluate training loss\n",
    "        train_loss_batch = loss_fn(\n",
    "            input=out_train_pred,\n",
    "            target=out_train,\n",
    "            overlap=aux_train,\n",
    "            check_args=check_args,\n",
    "        )\n",
    "\n",
    "        # Calculate gradient and update parameters\n",
    "        train_loss_batch.backward()\n",
    "        optimizer.step()\n",
    "\n",
    "        train_loss_epoch += train_loss_batch\n",
    "\n",
    "    train_loss_epoch /= len(idxs_train)\n",
    "    losses[\"train\"].append(train_loss_epoch.detach().numpy())\n",
    "\n",
    "    # Iterate over test batches: calculate the test loss\n",
    "    with torch.no_grad():  # don't track gradients for test loss\n",
    "        test_loss_epoch = 0\n",
    "        for test_batch in test_loader:\n",
    "            # Unpack test batch\n",
    "            idxs_test, in_test, out_test, aux_test = test_batch\n",
    "\n",
    "            # Make a prediction\n",
    "            out_test_pred = model(in_test, check_args=check_args)\n",
    "\n",
    "            # Evaluate test loss\n",
    "            test_loss_batch = loss_fn(\n",
    "                input=out_test_pred,\n",
    "                target=out_test,\n",
    "                overlap=aux_test,\n",
    "                check_args=check_args,\n",
    "            )\n",
    "            test_loss_epoch += test_loss_batch\n",
    "\n",
    "        test_loss_epoch /= len(idxs_test)\n",
    "        losses[\"test\"].append(test_loss_epoch.detach().numpy())\n",
    "\n",
    "    print(\n",
    "        f\"Epoch {epoch} | Train loss: {train_loss_epoch} | Test loss: {test_loss_epoch}\"\n",
    "    )"
   ]
  },
  {
   "cell_type": "code",
   "execution_count": 15,
   "metadata": {},
   "outputs": [
    {
     "data": {
      "text/plain": [
       "Text(0, 0.5, 'Density loss per structure')"
      ]
     },
     "execution_count": 15,
     "metadata": {},
     "output_type": "execute_result"
    },
    {
     "data": {
      "image/png": "[encoded data removed]",
      "text/plain": [
       "<Figure size 640x480 with 1 Axes>"
      ]
     },
     "metadata": {},
     "output_type": "display_data"
    }
   ],
   "source": [
    "# Plot losses\n",
    "fig, ax = plt.subplots()\n",
    "for trace in [\"train\", \"test\"]:\n",
    "    ax.loglog(np.arange(n_epochs), losses[trace], label=trace)\n",
    "\n",
    "ax.legend()\n",
    "ax.set_xlabel(\"Epoch\")\n",
    "ax.set_ylabel(\"Density loss per structure\")"
   ]
  },
  {
   "attachments": {},
   "cell_type": "markdown",
   "metadata": {},
   "source": [
    "## Evaluate model performance on validation set\n",
    "\n"
   ]
  },
  {
   "cell_type": "code",
   "execution_count": 20,
   "metadata": {},
   "outputs": [
    {
     "data": {
      "text/plain": [
       "{'aims': {'run_dir': '0',\n",
       "  'run_id': 'A12E928E-235A-4E20-A47B-4B3B76757457',\n",
       "  'version': '230629',\n",
       "  'commit': '5b767ef01'},\n",
       " 'scf': {'num_cycles': 19,\n",
       "  'converged': True,\n",
       "  'd_charge_density': [0.3125,\n",
       "   0.2933,\n",
       "   0.1793,\n",
       "   0.1193,\n",
       "   0.06321,\n",
       "   0.05991,\n",
       "   0.03983,\n",
       "   0.03456,\n",
       "   0.02939,\n",
       "   0.01637,\n",
       "   0.0003471,\n",
       "   7.771e-05,\n",
       "   2.265e-05,\n",
       "   1.404e-06,\n",
       "   2.418e-06,\n",
       "   7.013e-08,\n",
       "   3.732e-08,\n",
       "   1.789e-08,\n",
       "   2.224e-09],\n",
       "  'd_tot_energy_eV': [0.1725,\n",
       "   0.2183,\n",
       "   1.021,\n",
       "   0.9156,\n",
       "   -0.0531,\n",
       "   -0.005883,\n",
       "   -0.02724,\n",
       "   -0.02181,\n",
       "   -0.06858,\n",
       "   -0.09889,\n",
       "   0.001542,\n",
       "   0.001128,\n",
       "   -0.0002347,\n",
       "   -4.506e-05,\n",
       "   2.9e-05,\n",
       "   -7.289e-07,\n",
       "   8.496e-07,\n",
       "   -2.01e-07,\n",
       "   1.261e-10]},\n",
       " 'num_int_points': {'net': 49038, 'non-zero': 43948},\n",
       " 'num_abfs': 418,\n",
       " 'tot_energy_eV': -2078.591857368,\n",
       " 'time': {'max(cpu_time)': 5.153, 'wall_clock(cpu1)': 5.369},\n",
       " 'lmax': {'O': 5, 'H': 4},\n",
       " 'nmax': {('O', 0): 9,\n",
       "  ('O', 1): 10,\n",
       "  ('O', 2): 9,\n",
       "  ('O', 3): 8,\n",
       "  ('O', 4): 6,\n",
       "  ('O', 5): 4,\n",
       "  ('H', 0): 9,\n",
       "  ('H', 1): 7,\n",
       "  ('H', 2): 6,\n",
       "  ('H', 3): 3,\n",
       "  ('H', 4): 1},\n",
       " 'df_error': 0.00180139089117587}"
      ]
     },
     "execution_count": 20,
     "metadata": {},
     "output_type": "execute_result"
    }
   ],
   "source": [
    "calc_info"
   ]
  },
  {
   "cell_type": "code",
   "execution_count": 19,
   "metadata": {},
   "outputs": [
    {
     "name": "stderr",
     "output_type": "stream",
     "text": [
      "/opt/miniforge3/envs/rho/lib/python3.10/site-packages/rholearn/models.py:306: UserWarning: one or more of input blocks at keys [LabelsEntry(spherical_harmonics_l=5, species_center=1)] is not  part of the keys of the model. The returned prediction will not contain this block.\n",
      "  )\n"
     ]
    },
    {
     "ename": "TypeError",
     "evalue": "target_builder() takes 1 positional argument but 2 were given",
     "output_type": "error",
     "traceback": [
      "\u001b[0;31m---------------------------------------------------------------------------\u001b[0m",
      "\u001b[0;31mTypeError\u001b[0m                                 Traceback (most recent call last)",
      "\u001b[1;32m/Users/joe.abbott/Documents/phd/code/rho/rho_learn/docs/example/h2o/ml_water.ipynb Cell 26\u001b[0m line \u001b[0;36m4\n\u001b[1;32m      <a href='vscode-notebook-cell:/Users/joe.abbott/Documents/phd/code/rho/rho_learn/docs/example/h2o/ml_water.ipynb#X64sZmlsZQ%3D%3D?line=0'>1</a>\u001b[0m \u001b[39m# Load the validation frames as ASE Atoms objects\u001b[39;00m\n\u001b[1;32m      <a href='vscode-notebook-cell:/Users/joe.abbott/Documents/phd/code/rho/rho_learn/docs/example/h2o/ml_water.ipynb#X64sZmlsZQ%3D%3D?line=1'>2</a>\u001b[0m out_val_frames \u001b[39m=\u001b[39m [frames[A] \u001b[39mfor\u001b[39;00m A \u001b[39min\u001b[39;00m val_idxs]\n\u001b[0;32m----> <a href='vscode-notebook-cell:/Users/joe.abbott/Documents/phd/code/rho/rho_learn/docs/example/h2o/ml_water.ipynb#X64sZmlsZQ%3D%3D?line=3'>4</a>\u001b[0m out_val_pred \u001b[39m=\u001b[39m model\u001b[39m.\u001b[39;49mpredict(frames\u001b[39m=\u001b[39;49mout_val_frames)\n",
      "File \u001b[0;32m/opt/miniforge3/envs/rho/lib/python3.10/site-packages/rholearn/models.py:411\u001b[0m, in \u001b[0;36mRhoModel.predict\u001b[0;34m(self, input, frames)\u001b[0m\n\u001b[1;32m    408\u001b[0m     output \u001b[39m=\u001b[39m \u001b[39mself\u001b[39m(\u001b[39minput\u001b[39m, check_args\u001b[39m=\u001b[39m\u001b[39mTrue\u001b[39;00m)\n\u001b[1;32m    410\u001b[0m \u001b[39m# Transform the prediction\u001b[39;00m\n\u001b[0;32m--> 411\u001b[0m output \u001b[39m=\u001b[39m predictor\u001b[39m.\u001b[39;49mtarget_builder(output, frames, \u001b[39m*\u001b[39;49m\u001b[39m*\u001b[39;49m\u001b[39mself\u001b[39;49m\u001b[39m.\u001b[39;49m_target_kwargs)\n\u001b[1;32m    413\u001b[0m \u001b[39mreturn\u001b[39;00m output\n",
      "\u001b[0;31mTypeError\u001b[0m: target_builder() takes 1 positional argument but 2 were given"
     ]
    }
   ],
   "source": [
    "# Load the validation frames as ASE Atoms objects\n",
    "out_val_frames = [frames[A] for A in val_idxs]\n",
    "\n",
    "out_val_pred = model.predict(frames=out_val_frames)"
   ]
  },
  {
   "cell_type": "code",
   "execution_count": null,
   "metadata": {},
   "outputs": [],
   "source": [
    "# Build the validation dataloader\n",
    "val_loader = data.RhoLoader(\n",
    "    rho_data,\n",
    "    idxs=val_idxs,\n",
    "    get_overlaps=False,\n",
    "    batch_size=None,\n",
    ")\n",
    "idxs_val, in_val, out_val = next(iter(val_loader))\n",
    "\n",
    "# Make a prediction\n",
    "out_val_pred = model.predict(input=in_val)\n",
    "\n",
    "assert metatensor.equal_metadata(out_val_pred, out_val)\n",
    "\n",
    "# Split the prediction into separate TensorMaps for each structure\n",
    "out_val_pred_list = []\n",
    "for A in idxs_val:\n",
    "    out_val_pred_list.append(\n",
    "        metatensor.slice(\n",
    "            out_val_pred,\n",
    "            \"samples\",\n",
    "            labels=Labels(names=\"structure\", values=np.array(A).reshape(-1, 1)),\n",
    "        )\n",
    "    )\n",
    "\n",
    "for i, tensor in zip(idxs_val, out_val_pred_list):\n",
    "    assert i == metatensor.unique_metadata(tensor, \"samples\", \"structure\").values[0]"
   ]
  },
  {
   "cell_type": "code",
   "execution_count": null,
   "metadata": {},
   "outputs": [],
   "source": [
    "# Load the validation frames as ASE Atoms objects\n",
    "out_val_frames = [frames[A] for A in idxs_val]\n",
    "\n",
    "# Convert the TensorMaps to numpy arrays\n",
    "out_val_pred_np = [\n",
    "    convert.coeff_vector_tensormap_to_ndarray(frame, tensor, )\n",
    "]"
   ]
  },
  {
   "cell_type": "code",
   "execution_count": null,
   "metadata": {},
   "outputs": [],
   "source": [
    "for tensor in out_val_pred:\n",
    "    print(metatensor.unique_metadata(tensor, \"samples\", \"structure\"))"
   ]
  },
  {
   "cell_type": "markdown",
   "metadata": {},
   "source": [
    "## Make a prediction on unseen structure"
   ]
  },
  {
   "cell_type": "code",
   "execution_count": null,
   "metadata": {},
   "outputs": [],
   "source": [
    "# Load some structures we don't have a DFT reference for\n",
    "unseen_structures = ase.io.read(\n",
    "    os.path.join(data_dir, \"water_monomers_1k.xyz\"), f\"{n_frames}:{n_frames + 5}\"\n",
    ")\n",
    "\n",
    "# Make an end-to-end prediction: XYZ coordinates ---> RI coefficients\n",
    "model.predict(frames=unseen_structures)"
   ]
  },
  {
   "cell_type": "code",
   "execution_count": null,
   "metadata": {},
   "outputs": [],
   "source": [
    "lsoap.keys.names"
   ]
  },
  {
   "cell_type": "code",
   "execution_count": null,
   "metadata": {
    "tags": []
   },
   "outputs": [],
   "source": [
    "# Visualize the predicted density\n",
    "v = py3Dmol.view()\n",
    "v.addModelsAsFrames(open(os.path.join(plot_dir, \"out_val_pred.cube\"), \"r\").read(), \"cube\")\n",
    "v.setStyle({\"stick\": {}})\n",
    "v.addVolumetricData(\n",
    "    open(os.path.join(plot_dir, \"out_val_pred.cube\"), \"r\").read(),\n",
    "    \"cube\",\n",
    "    {\"isoval\": 0.05, \"color\": \"blue\", \"opacity\": 0.8},\n",
    ")\n",
    "v.show()\n",
    "\n",
    "\n",
    "# Visualize the delta density"
   ]
  }
 ],
 "metadata": {
  "kernelspec": {
   "display_name": "rho",
   "language": "python",
   "name": "python3"
  },
  "language_info": {
   "codemirror_mode": {
    "name": "ipython",
    "version": 3
   },
   "file_extension": ".py",
   "mimetype": "text/x-python",
   "name": "python",
   "nbconvert_exporter": "python",
   "pygments_lexer": "ipython3",
   "version": "3.10.12"
  },
  "toc-autonumbering": false,
  "toc-showcode": false,
  "toc-showmarkdowntxt": true
 },
 "nbformat": 4,
 "nbformat_minor": 4
}
