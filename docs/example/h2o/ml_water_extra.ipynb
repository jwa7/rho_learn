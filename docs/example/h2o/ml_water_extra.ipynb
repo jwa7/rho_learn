{
 "cells": [
  {
   "cell_type": "code",
   "execution_count": null,
   "metadata": {},
   "outputs": [],
   "source": [
    "# Useful standard and scientific ML libraries\n",
    "import ase.io\n",
    "import matplotlib.pyplot as plt\n",
    "import numpy as np\n",
    "import py3Dmol\n",
    "import torch\n",
    "\n",
    "# M-Stack packages\n",
    "\n",
    "import metatensor   # storage format for atomistic ML\n",
    "import chemiscope  # interactive molecular visualization\n",
    "import rascaline   # generating structural representations\n",
    "\n",
    "from metatensor import Labels, TensorBlock, TensorMap\n",
    "from rascaline.utils import clebsch_gordan\n",
    "\n",
    "# Torch-based density leaning\n",
    "from rholearn import io, data, loss, models, predictor"
   ]
  },
  {
   "cell_type": "markdown",
   "metadata": {},
   "source": [
    "## Check the equivariance condition"
   ]
  },
  {
   "cell_type": "markdown",
   "metadata": {},
   "source": [
    "### a) $\\lambda$-SOAP descriptor"
   ]
  },
  {
   "cell_type": "code",
   "execution_count": null,
   "metadata": {},
   "outputs": [
    {
     "name": "stdout",
     "output_type": "stream",
     "text": [
      "Random rotation angles (rad): [2.35138515 4.55346788 5.98524295]\n",
      "O(3) EQUIVARIANT!\n"
     ]
    }
   ],
   "source": [
    "# Check equivariance of lambda-SOAP descriptor\n",
    "\n",
    "# Generate Wigner-D matrices, initialized with random angles\n",
    "wig = clebsch_gordan.WignerDReal(lmax=2*rascal_settings[\"hypers\"][\"max_angular\"])\n",
    "print(\"Random rotation angles (rad):\", wig.angles)\n",
    "\n",
    "# Apply an O(3) transformation to each frame \n",
    "frames_o3 = [clebsch_gordan.transform_frame_o3(frame, wig.angles) for frame in frames]\n",
    "assert not np.allclose(frames[0].positions, frames_o3[0].positions)\n",
    "\n",
    "# Generate lambda-SOAP for the transformed frames\n",
    "lsoap = predictor.descriptor_builder(frames, **descriptor_kwargs)\n",
    "lsoap_o3 = predictor.descriptor_builder(frames_o3, **descriptor_kwargs)\n",
    "\n",
    "# Apply the O(3) transformation to the TensorMap\n",
    "lsoap_transformed = wig.transform_tensormap_o3(lsoap)\n",
    "\n",
    "# Check for equivariance!\n",
    "assert metatensor.equal_metadata(lsoap_transformed, lsoap_o3)\n",
    "assert metatensor.allclose(lsoap_transformed, lsoap_o3)\n",
    "print(\"O(3) EQUIVARIANT!\")"
   ]
  },
  {
   "cell_type": "markdown",
   "metadata": {},
   "source": [
    "### b) torch model (untrained)"
   ]
  },
  {
   "cell_type": "code",
   "execution_count": null,
   "metadata": {},
   "outputs": [
    {
     "name": "stderr",
     "output_type": "stream",
     "text": [
      "/home/abbott/miniforge3/envs/rho/lib/python3.10/site-packages/rholearn/models.py:308: UserWarning: one or more of input blocks at keys [LabelsEntry(spherical_harmonics_l=5, species_center=1), LabelsEntry(spherical_harmonics_l=6, species_center=1), LabelsEntry(spherical_harmonics_l=7, species_center=1), LabelsEntry(spherical_harmonics_l=8, species_center=1)] is not  part of the keys of the model. The returned prediction will not contain this block.\n",
      "  warnings.warn(\n"
     ]
    },
    {
     "name": "stdout",
     "output_type": "stream",
     "text": [
      "O(3) EQUIVARIANT!\n"
     ]
    }
   ],
   "source": [
    "# Make a prediction on both the original and O3-transformed lambda-SOAP\n",
    "# descriptors\n",
    "with torch.no_grad():\n",
    "    pred = model(metatensor.to(lsoap, \"torch\", **torch_settings))\n",
    "    pred_o3 = model(metatensor.to(lsoap_o3, \"torch\", **torch_settings))\n",
    "\n",
    "# Transform the prediction made on the original (untransfored) lambda-SOAP\n",
    "pred_transformed = wig.transform_tensormap_o3(pred)\n",
    "\n",
    "# Check for equivariance!\n",
    "assert metatensor.equal_metadata(pred_transformed, pred_o3)\n",
    "assert metatensor.allclose(pred_transformed, pred_o3)\n",
    "print(\"O(3) EQUIVARIANT!\")"
   ]
  }
 ],
 "metadata": {
  "language_info": {
   "name": "python"
  }
 },
 "nbformat": 4,
 "nbformat_minor": 2
}
