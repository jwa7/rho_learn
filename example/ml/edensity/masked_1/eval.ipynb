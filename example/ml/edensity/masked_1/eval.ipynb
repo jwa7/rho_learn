{
 "cells": [
  {
   "cell_type": "markdown",
   "metadata": {},
   "source": [
    "## Perform Inference"
   ]
  },
  {
   "cell_type": "code",
   "execution_count": null,
   "metadata": {},
   "outputs": [],
   "source": [
    "from functools import partial\n",
    "from os.path import join\n",
    "\n",
    "import matplotlib.pyplot as plt\n",
    "import torch\n",
    "\n",
    "import chemiscope\n",
    "\n",
    "from rhocalc.aims import aims_fields, aims_predictor\n",
    "from rhocalc.cube import rho_cube\n",
    "\n",
    "from dft_settings import *\n",
    "from ml_settings import *"
   ]
  },
  {
   "cell_type": "code",
   "execution_count": null,
   "metadata": {},
   "outputs": [],
   "source": [
    "eval_id = [i for j in ALL_SUBSET_ID for i in j]\n",
    "eval_frames = [ALL_STRUCTURE[A] for A in eval_id]\n",
    "chemiscope.show(eval_frames, mode=\"structure\")"
   ]
  },
  {
   "cell_type": "code",
   "execution_count": null,
   "metadata": {},
   "outputs": [],
   "source": [
    "model = torch.load(\"checkpoint/epoch_2000/model.pt\")\n",
    "eval_preds = model.predict(frames=eval_frames, system_id=eval_id)"
   ]
  },
  {
   "cell_type": "code",
   "execution_count": null,
   "metadata": {},
   "outputs": [],
   "source": [
    "aims_kwargs = {k: v for k, v in BASE_AIMS.items()}\n",
    "aims_kwargs.update({k: v for k, v in REBUILD.items()})\n",
    "aims_predictor.field_builder(\n",
    "    system_id=list(eval_id),\n",
    "    system=eval_frames,\n",
    "    predicted_coeffs=eval_preds,\n",
    "    save_dir=partial(EVAL_DIR, epoch=\"eval\"),\n",
    "    return_field=False,\n",
    "    aims_kwargs=aims_kwargs,\n",
    "    aims_path=AIMS_PATH,\n",
    "    basis_set=TARGET_BASIS,\n",
    "    cube=CUBE,\n",
    "    hpc_kwargs=HPC,\n",
    "    sbatch_kwargs=SBATCH,\n",
    ")"
   ]
  },
  {
   "cell_type": "markdown",
   "metadata": {},
   "source": [
    "## Evaluate MAE on the surface"
   ]
  },
  {
   "cell_type": "code",
   "execution_count": null,
   "metadata": {},
   "outputs": [],
   "source": [
    "for A, frame in zip(eval_id, eval_frames):\n",
    "    grid = np.loadtxt(join(RI_DIR(A), \"partition_tab.out\"))\n",
    "    rho_ref = np.loadtxt(join(RI_DIR(A), \"rho_ri.out\"))\n",
    "    rho_ml = np.loadtxt(join(EVAL_DIR(A, epoch=\"eval\"), \"rho_rebuilt.out\"))\n",
    "\n",
    "    grid = aims_fields.sort_field_by_grid_points(grid)\n",
    "    rho_ref = aims_fields.sort_field_by_grid_points(rho_ref)\n",
    "    rho_ml = aims_fields.sort_field_by_grid_points(rho_ml)\n",
    "\n",
    "    grid[:, 3] *= grid[:, 2] > frame.positions[:, 2].max() - (\n",
    "        DESCRIPTOR_HYPERS[\"slab_depth\"] + DESCRIPTOR_HYPERS[\"interphase_depth\"]\n",
    "    )\n",
    "\n",
    "    mae = aims_fields.get_percent_mae_between_fields(input=rho_ml, target=rho_ref, grid=grid)\n",
    "    print(f\"MAE for system {A}: {mae:.2f}%\")"
   ]
  },
  {
   "cell_type": "markdown",
   "metadata": {},
   "source": [
    "## Plot STM image"
   ]
  },
  {
   "cell_type": "code",
   "execution_count": null,
   "metadata": {},
   "outputs": [],
   "source": [
    "for A in eval_id:\n",
    "    paths = [\n",
    "        join(RI_DIR(A), \"rho_ri.cube\"),\n",
    "        join(EVAL_DIR(A, epoch=\"eval\"), \"rho_rebuilt.cube\"),\n",
    "    ]\n",
    "    # Create a scatter matrix\n",
    "    fig, axes = plt.subplots(\n",
    "        len(paths), len(paths), figsize=(10, 8), sharey=True, sharex=True\n",
    "    )\n",
    "\n",
    "    X, Y, Z = [], [], []\n",
    "    for path in paths:\n",
    "        q = rho_cube.RhoCube(path)\n",
    "        x, y, z = q.get_slab_slice(\n",
    "            axis=2,\n",
    "            center_coord=q.ase_frame.positions[:, 2].max(),\n",
    "            thickness=4,\n",
    "        )\n",
    "        X.append(x)\n",
    "        Y.append(y)\n",
    "        Z.append(z)\n",
    "\n",
    "    for row, row_ax in enumerate(axes):\n",
    "        for col, ax in enumerate(row_ax):\n",
    "            if row == col:\n",
    "                x, y, z = X[row], Y[row], np.tanh(Z[row])\n",
    "            elif row < col:\n",
    "                x, y, z = X[row], Y[col], np.tanh(Z[row] - Z[col])\n",
    "            else:\n",
    "                continue\n",
    "            cs = ax.contourf(x, y, z, cmap=\"gray\")\n",
    "            cbar = fig.colorbar(cs)\n",
    "\n",
    "    plt.savefig(join(EVAL_DIR(A, epoch=\"eval\"), \"stm_scatter.png\"))"
   ]
  },
  {
   "cell_type": "code",
   "execution_count": null,
   "metadata": {},
   "outputs": [],
   "source": []
  }
 ],
 "metadata": {
  "kernelspec": {
   "display_name": "rho",
   "language": "python",
   "name": "python3"
  },
  "language_info": {
   "codemirror_mode": {
    "name": "ipython",
    "version": 3
   },
   "file_extension": ".py",
   "mimetype": "text/x-python",
   "name": "python",
   "nbconvert_exporter": "python",
   "pygments_lexer": "ipython3",
   "version": "3.11.9"
  }
 },
 "nbformat": 4,
 "nbformat_minor": 2
}
