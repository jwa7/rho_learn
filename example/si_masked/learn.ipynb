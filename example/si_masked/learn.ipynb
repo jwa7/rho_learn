{
 "cells": [
  {
   "cell_type": "code",
   "execution_count": null,
   "metadata": {},
   "outputs": [],
   "source": [
    "from rhotrain import train_utils\n",
    "from ml_settings import ML_DIR, SBATCH\n",
    "\n",
    "train_utils.run_training_sbatch(\n",
    "    \".\",\n",
    "    python_command=\n",
    "    \"python3 -c 'from rhotrain import train; \"\n",
    "    \"from ml_settings import ML_SETTINGS; \"\n",
    "    \"train.train(ML_SETTINGS)'\",\n",
    "    **SBATCH\n",
    ")"
   ]
  },
  {
   "cell_type": "code",
   "execution_count": null,
   "metadata": {},
   "outputs": [],
   "source": [
    "import os\n",
    "from os.path import join\n",
    "from ml_settings import ML_DIR\n",
    "os.system(f\"cat {join(ML_DIR, 'training.log')}\");\n",
    "os.system(f\"cat slurm_out/slurm_train.out\");"
   ]
  },
  {
   "cell_type": "code",
   "execution_count": null,
   "metadata": {},
   "outputs": [],
   "source": []
  }
 ],
 "metadata": {
  "kernelspec": {
   "display_name": "rho",
   "language": "python",
   "name": "python3"
  },
  "language_info": {
   "codemirror_mode": {
    "name": "ipython",
    "version": 3
   },
   "file_extension": ".py",
   "mimetype": "text/x-python",
   "name": "python",
   "nbconvert_exporter": "python",
   "pygments_lexer": "ipython3",
   "version": "3.11.8"
  }
 },
 "nbformat": 4,
 "nbformat_minor": 2
}
